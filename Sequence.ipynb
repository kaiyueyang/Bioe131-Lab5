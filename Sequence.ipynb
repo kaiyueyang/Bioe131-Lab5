{
 "cells": [
  {
   "cell_type": "code",
   "execution_count": null,
   "metadata": {},
   "outputs": [],
   "source": [
    "2a\n",
    "GGG CGA CCC UGA UGA GCU UGA GUU UAG CUC GUC ACU GUC CAG GUU CAA UCA GGC GAA ACG GUG AAA GCC GUA GGU UGC CC\n",
    "\n",
    "4a\n",
    "GGC AGG UAC AUA CAG CUG AUG AGU CCC AAA UAG GAC GAA ACG CGA CAC ACA CCA CUA AAC CGU GCA GUG UUU UGC GUC CUG UAU UCC ACU GC\n",
    "\n",
    "5a\n",
    "GGG CGA CCC UGA UGA GCU UGG UUU AGU AUU UAC AGC UCC AUA CAU GAG GUG UUA UCC CUA UGC AUG UUC GAU CAG GCG AAA CGG UGA AAG CCG UAG GUU GCC CAG AGA CAA U\n",
    "\n",
    "6a\n",
    "GGG CGA CCC UGA UGA GCU UGG UUG AGU AUU UAC AGC ACC AUA CAU GAG GUG UUC UCC CUA CGC AAG UUC GAU CAG CGG AAA CGG UGA AAG CCG UAG GUU GCC C"
   ]
  }
 ],
 "metadata": {
  "kernelspec": {
   "display_name": "Python 3",
   "language": "python",
   "name": "python3"
  },
  "language_info": {
   "codemirror_mode": {
    "name": "ipython",
    "version": 3
   },
   "file_extension": ".py",
   "mimetype": "text/x-python",
   "name": "python",
   "nbconvert_exporter": "python",
   "pygments_lexer": "ipython3",
   "version": "3.6.5"
  }
 },
 "nbformat": 4,
 "nbformat_minor": 2
}
