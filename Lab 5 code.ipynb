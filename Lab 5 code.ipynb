{
 "cells": [
  {
   "cell_type": "markdown",
   "metadata": {},
   "source": [
    "Please copy down the sequences for the YES-1 riboswitch fromFigure 2a, theNOT-1 riboswitch in Figure 4a, the AND-1 riboswitch in Figure 5a, and the OR-1 riboswitch in Figure 6a."
   ]
  },
  {
   "cell_type": "markdown",
   "metadata": {},
   "source": [
    "For each riboswitch, produce a table in your iPython notebook that contains the following information: (1) riboswitch name, (2) start and end coordinates of OBS-1 (blue region), (3) start and end coordinates of OBS-2 (blue region, only applicable to AND-1 and OR-1), and (4) start and end coordinates of the two red regions."
   ]
  },
  {
   "cell_type": "code",
   "execution_count": 11,
   "metadata": {},
   "outputs": [
    {
     "name": "stdout",
     "output_type": "stream",
     "text": [
      "a = 1\n",
      "b = 2\n",
      "c = 3\n"
     ]
    }
   ],
   "source": [
    "names = [\"a\", \"b\", \"c\",\"d\"]\n",
    "values = [1, 2, 3]\n",
    "for n, v in zip(names, values):\n",
    "    print(\"{} = {}\".format(n, v))"
   ]
  },
  {
   "cell_type": "code",
   "execution_count": 19,
   "metadata": {
    "scrolled": true
   },
   "outputs": [
    {
     "name": "stdout",
     "output_type": "stream",
     "text": [
      "YES-1\t26-47\tnot applicable\t16-21, 49-54\n",
      "NOT-1\t44-66\tnot applicable\t40-43, 74-77\n",
      "AND-1\t30-45\t49-64\t16-23, 70-77\n",
      "YES-1\t26-47\tnot applicable\t16-21, 49-54\n",
      "NOT-1\t44-66\tnot applicable\t40-43, 74-77\n",
      "AND-1\t30-45\t49-64\t16-23, 70-77\n"
     ]
    }
   ],
   "source": [
    "students = [(\"YES-1\", \"26-47\", \"not applicable\", \"16-21, 49-54\" ), (\"NOT-1\", \"44-66\", \"not applicable\", \"40-43, 74-77\"), ([\"AND-1\", \"30-45\", \"49-64\", \"16-23, 70-77\"])]\n",
    "for student in students:\n",
    "    print(*student, sep='\\t')  # python 3\n",
    "for student in students:\n",
    "    print ('\\t'.join(str(i) for i in student))"
   ]
  },
  {
   "cell_type": "code",
   "execution_count": 18,
   "metadata": {},
   "outputs": [
    {
     "name": "stdout",
     "output_type": "stream",
     "text": [
      "['YES-1', '26-47', 'not applicable', '16-21, 49-54']\n"
     ]
    }
   ],
   "source": [
    "riboswitch_1 = [\"YES-1\", \"26-47\", \"not applicable\", \"16-21, 49-54\" ]\n",
    "riboswitch_2 = [\"NOT-1\", \"44-66\", \"not applicable\", \"40-43, 74-77\"]\n",
    "riboswitch_3 = [\"AND-1\", \"30-45\", \"49-64\", \"16-23, 70-77\"]\n",
    "riboswitch_4 = [\"OR-1\", \"27-46\", \"47-66\", \"16-26, 67-77\"]\n",
    "\n"
   ]
  },
  {
   "cell_type": "code",
   "execution_count": 36,
   "metadata": {},
   "outputs": [
    {
     "name": "stdout",
     "output_type": "stream",
     "text": [
      "Name\tOBS1 start/end\t  OBS2 start/end\t  Red regions start/end\n",
      "YES-1\t    26-47   \t  not applicable    \t  16-21, 49-54   \n",
      "NOT-1\t    44-66   \t   not applicable   \t  40-43, 74-77   \n",
      "AND-1\t    30-45   \t      49-64  \t          16-23, 70-77\n",
      "OR-1\t    27-46   \t      47-66   \t          16-26, 67-77\n"
     ]
    }
   ],
   "source": [
    "students = [(\"Name\", \"OBS1 start/end\", \"  OBS2 start/end\", \"  Red regions start/end\"), (\"YES-1\", \"    26-47   \", \"  not applicable    \", \"  16-21, 49-54   \" ), (\"NOT-1\", \"    44-66   \", \"   not applicable   \", \"  40-43, 74-77   \"), (\"AND-1\", \"    30-45   \", \"      49-64  \", \"          16-23, 70-77\"), (\"OR-1\", \"    27-46   \", \"      47-66   \", \"          16-26, 67-77\")]\n",
    "for student in students:\n",
    "    print(*student, sep='\\t')  # python 3\n",
    "#for student in students:\n",
    "    #print ('\\t'.join(str(i) for i in student))"
   ]
  },
  {
   "cell_type": "markdown",
   "metadata": {},
   "source": [
    "\n",
    "2a = GGGCGACCCUGAUGAGCUUGAGUUUAGCUCGUCACUGUCCAGGUUCAAUCAGGCGAAACGGUGAAAGCCGUAGGUUGCCC\n",
    "\n",
    "4a\n",
    "GGC AGG UAC AUA CAG CUG AUG AGU CCC AAA UAG GAC GAA ACG CGA CAC ACA CCA CUA AAC CGU GCA GUG UUU UGC GUC CUG UAU UCC ACU GC\n",
    "\n",
    "5a\n",
    "GGG CGA CCC UGA UGA GCU UGG UUU AGU AUU UAC AGC UCC AUA CAU GAG GUG UUA UCC CUA UGC AUG UUC GAU CAG GCG AAA CGG UGA AAG CCG UAG GUU GCC CAG AGA CAA U\n",
    "\n",
    "6a\n",
    "GGG CGA CCC UGA UGA GCU UGG UUG AGU AUU UAC AGC ACC AUA CAU GAG GUG UUC UCC CUA CGC AAG UUC GAU CAG CGG AAA CGG UGA AAG CCG UAG GUU GCC C"
   ]
  },
  {
   "cell_type": "code",
   "execution_count": 52,
   "metadata": {},
   "outputs": [],
   "source": [
    "seq_YES1 = \"GGGCGACCCUGAUGAGCUUGAGUUUAGCUCGUCACUGUCCAGGUUCAAUCAGGCGAAACGGUGAAAGCCGUAGGUUGCCC\""
   ]
  },
  {
   "cell_type": "code",
   "execution_count": 37,
   "metadata": {},
   "outputs": [],
   "source": [
    "import subprocess"
   ]
  },
  {
   "cell_type": "code",
   "execution_count": 53,
   "metadata": {},
   "outputs": [
    {
     "name": "stdout",
     "output_type": "stream",
     "text": [
      "\n"
     ]
    }
   ],
   "source": [
    "p = subprocess.run(['RNAfold'], input=bytes(seq_YES1, 'ascii'), stdout=subprocess.PIPE, stderr=subprocess.PIPE)\n",
    "print(p.stderr.decode()) "
   ]
  },
  {
   "cell_type": "code",
   "execution_count": 54,
   "metadata": {},
   "outputs": [
    {
     "name": "stdout",
     "output_type": "stream",
     "text": [
      "GGGCGACCCUGAUGAGCUUGAGUUUAGCUCGUCACUGUCCAGGUUCAAUCAGGCGAAACGGUGAAAGCCGUAGGUUGCCC\n",
      "((((((((.(((((((((.......))))))))).((.((.(((...))).))))..(((((....))))).)))))))) (-33.00)\n",
      "\n"
     ]
    }
   ],
   "source": [
    "print (p.stdout.decode())"
   ]
  },
  {
   "cell_type": "code",
   "execution_count": null,
   "metadata": {},
   "outputs": [],
   "source": []
  }
 ],
 "metadata": {
  "kernelspec": {
   "display_name": "Python 3",
   "language": "python",
   "name": "python3"
  },
  "language_info": {
   "codemirror_mode": {
    "name": "ipython",
    "version": 3
   },
   "file_extension": ".py",
   "mimetype": "text/x-python",
   "name": "python",
   "nbconvert_exporter": "python",
   "pygments_lexer": "ipython3",
   "version": "3.6.0"
  }
 },
 "nbformat": 4,
 "nbformat_minor": 2
}
