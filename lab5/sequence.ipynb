{
 "cells": [
  {
   "cell_type": "code",
   "execution_count": null,
   "metadata": {},
   "outputs": [],
   "source": [
    "2a YES-1\n",
    "GGGCGACCCUGAUGA  GCUUGA  GUUU  AGCUCGUCACUGUCCAGGUUCA  A  UCAGGC  GAAACGGUGAAAGCCGUAGGUUGCCC\n",
    "...............  GCUUGA  ....  xxxxxxxxxxxxxxxxxxxxxx  .  UCAGGC  ..........................\n",
    "(unconstrained)  (red)   (ucs) (blue                 )\n",
    "\n",
    "4a NOT-1\n",
    "GGCAGGUACAUACAGCUGAUGAGUCCCAAAUAGGACGAA  ACGC  GACACACACCACUAAACCGUGCA  GUGUUUU  GCGU  CCUGUAUUCCACUGC\n",
    ".......................................  ACGC  xxxxxxxxxxxxxxxxxxxxxxx  .......  GCGU  ...............\n",
    "\n",
    "5a AND-1 Need a new graph\n",
    "GGGCGACCCUGAUGA  GCUUGGUU  UAGUAU  UUACAGCUCCAUACAU  GAG  GUGUUAUCCCUAUGCA  AGUUC  GAUCAGGC  GAAACGGUGAAAGCCGUAGGUUGCCCAGAGACAAU\n",
    "\n",
    "6a OR-1\n",
    "GGGCGACCCUGAUGA  GCUUGGUUGAG  UAUUUACAGCACCAUACAUG  AGGUGUUCUCCCUACGCAAG  UUCGAUCAGCG  GAAACGGUGAAAGCCGUAGGUUGCCC\n",
    "...............  GCUUGGUUUAG  xxxxxxxxxxxxxxxxxxxx  AGGUGUUCUCCCUACGCAAG  UUCGAUCAGCG  ..........................\n",
    "...............  GCUUGGUUUAG  UAUUUACAGCACCAUACAUG  xxxxxxxxxxxxxxxxxxxx  UUCGAUCAGCG  ..........................\n",
    "...............  GCUUGGUUUAG  xxxxxxxxxxxxxxxxxxxx  xxxxxxxxxxxxxxxxxxxx  UUCGAUCAGCG  ..........................\n",
    "(unconstrained)  (red)        (OBS-1)               (OBS-2)               (red)        (unconstrained)\n",
    "\n"
   ]
  }
 ],
 "metadata": {
  "kernelspec": {
   "display_name": "Python 3",
   "language": "python",
   "name": "python3"
  },
  "language_info": {
   "codemirror_mode": {
    "name": "ipython",
    "version": 3
   },
   "file_extension": ".py",
   "mimetype": "text/x-python",
   "name": "python",
   "nbconvert_exporter": "python",
   "pygments_lexer": "ipython3",
   "version": "3.6.0"
  }
 },
 "nbformat": 4,
 "nbformat_minor": 2
}
