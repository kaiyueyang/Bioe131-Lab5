{
 "cells": [
  {
   "cell_type": "code",
   "execution_count": 15,
   "metadata": {},
   "outputs": [
    {
     "name": "stdout",
     "output_type": "stream",
     "text": [
      "| First Name | Subject chosen | Score |\n",
      "| Francis    | English        | 435   |\n",
      "| Larry      | Math           | 234   |\n",
      "| Nicole     | Biology        | 986   |\n",
      "| Sam        | Computing      | 12    |\n"
     ]
    }
   ],
   "source": [
    "t = [[\"Francis\", \"English\", 435],\n",
    "     [\"Larry\", \"Math\", 234],\n",
    "     [\"Nicole\", \"Biology\", 986],\n",
    "     [\"Sam\", \"Computing\", 12]]\n",
    "\n",
    "print (\"| First Name | Subject chosen | Score |\")\n",
    "\n",
    "for item in t:\n",
    "    print (\"|\", item[0], \" \"*(9-len(item[0])), \"|\", \n",
    "           item[1], \" \"*(13-len(item[1])), \"|\", \n",
    "           item[2], \" \"*(4-len(str(item[2]))), \"|\")"
   ]
  },
  {
   "cell_type": "markdown",
   "metadata": {},
   "source": [
    "2a\n",
    "GGG CGA CCC UGA UGA GCU UGA GUU UAG CUC GUC ACU GUC CAG GUU CAA UCA GGC GAA ACG GUG AAA GCC GUA GGU UGC CC\n",
    "\n",
    "4a\n",
    "GGC AGG UAC AUA CAG CUG AUG AGU CCC AAA UAG GAC GAA ACG CGA CAC ACA CCA CUA AAC CGU GCA GUG UUU UGC GUC CUG UAU UCC ACU GC\n",
    "\n",
    "5a\n",
    "GGG CGA CCC UGA UGA GCU UGG UUU AGU AUU UAC AGC UCC AUA CAU GAG GUG UUA UCC CUA UGC AUG UUC GAU CAG GCG AAA CGG UGA AAG CCG UAG GUU GCC CAG AGA CAA U\n",
    "\n",
    "6a\n",
    "GGG CGA CCC UGA UGA GCU UGG UUG AGU AUU UAC AGC ACC AUA CAU GAG GUG UUC UCC CUA CGC AAG UUC GAU CAG CGG AAA CGG UGA AAG CCG UAG GUU GCC C"
   ]
  },
  {
   "cell_type": "code",
   "execution_count": 34,
   "metadata": {},
   "outputs": [
    {
     "name": "stdout",
     "output_type": "stream",
     "text": [
      "| NAME   | OBS-1 start-end | OBS-2 start-end | Red start-end |\n",
      "| YES-1  | 26-47           | N/A             | 16-21, 49-54  |\n",
      "| NOT-1  | 44-66           | N/A             | 40-43, 74-77  |\n",
      "| AND-1  | 30-45           | 49-64           | 16-23, 70-77  |\n",
      "| OR-1   | 27-46           | 47-66           | 16-26, 67-77  |\n"
     ]
    }
   ],
   "source": [
    "t = [[\"YES-1\", \"26-47\", \"N/A\", \"16-21, 49-54\"],\n",
    "     [\"NOT-1\", \"44-66\", \"N/A\", \"40-43, 74-77\"],\n",
    "     [\"AND-1\", \"30-45\", \"49-64\", \"16-23, 70-77\"],\n",
    "     [\"OR-1\", \"27-46\", \"47-66\",\"16-26, 67-77\"]]\n",
    "\n",
    "print (\"| NAME   | OBS-1 start-end | OBS-2 start-end | Red start-end |\")\n",
    "\n",
    "for item in t:\n",
    "    print (\"|\", item[0], \" \"*(5-len(item[0])), \"|\", \n",
    "           item[1], \" \"*(14-len(item[1])), \"|\", \n",
    "           item[2], \" \"*(14-len(item[2])), \"|\", item[3], \" \"*(8-len(item[3])), \"|\")"
   ]
  },
  {
   "cell_type": "markdown",
   "metadata": {},
   "source": []
  }
 ],
 "metadata": {
  "kernelspec": {
   "display_name": "Python 3",
   "language": "python",
   "name": "python3"
  },
  "language_info": {
   "codemirror_mode": {
    "name": "ipython",
    "version": 3
   },
   "file_extension": ".py",
   "mimetype": "text/x-python",
   "name": "python",
   "nbconvert_exporter": "python",
   "pygments_lexer": "ipython3",
   "version": "3.6.0"
  }
 },
 "nbformat": 4,
 "nbformat_minor": 2
}
