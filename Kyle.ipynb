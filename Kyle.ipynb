{
 "cells": [
  {
   "cell_type": "markdown",
   "metadata": {},
   "source": [
    "2a\n",
    "GGG CGA CCC UGA UGA GCU UGA GUU UAG CUC GUC ACU GUC CAG GUU CAA UCA GGC GAA ACG GUG AAA GCC GUA GGU UGC CC\n",
    "\n",
    "4a\n",
    "GGC AGG UAC AUA CAG CUG AUG AGU CCC AAA UAG GAC GAA ACG CGA CAC ACA CCA CUA AAC CGU GCA GUG UUU UGC GUC CUG UAU UCC ACU GC\n",
    "\n",
    "5a\n",
    "GGG CGA CCC UGA UGA GCU UGG UUU AGU AUU UAC AGC UCC AUA CAU GAG GUG UUA UCC CUA UGC AUG UUC GAU CAG GCG AAA CGG UGA AAG CCG UAG GUU GCC CAG AGA CAA U\n",
    "\n",
    "6a\n",
    "GGG CGA CCC UGA UGA GCU UGG UUG AGU AUU UAC AGC ACC AUA CAU GAG GUG UUC UCC CUA CGC AAG UUC GAU CAG CGG AAA CGG UGA AAG CCG UAG GUU GCC C"
   ]
  },
  {
   "cell_type": "markdown",
   "metadata": {},
   "source": [
    "2a\n",
    "GGGCGACCCUGAUGAGCUUGAGUUUAGCUCGUCACUGUCCAGGUUCAAUCAGGCGAAACGGUGAAAGCCGUAGGUUGCCC\n",
    "\n",
    "4a\n",
    "GGCAGGUACAUACAGCUGAUGAGUCCCAAAUAGGACGAAACGCGACACACACCACUAAACCGUGCAGUGUUUUGCGUCCUGUAUUCCACUGC\n",
    "\n",
    "5a\n",
    "GGGCGACCCUGAUGAGCUUGGUUUAGUAUUUACAGCUCCAUACAUGAGGUGUUAUCCCUAUGCAUGUUCGAUCAGGCGAAACGGUGAAAGCCGUAGGUUGCCCAGAGACAAU\n",
    "\n",
    "6a\n",
    "GGGCGACCCUGAUGAGCUUGGUUGAGUAUUUACAGCACCAUACAUGAGGUGUUCUCCCUACGCAAGUUCGAUCAGCGGAAACGGUGAAAGCCGUAGGUUGCCC"
   ]
  },
  {
   "cell_type": "code",
   "execution_count": 1,
   "metadata": {},
   "outputs": [
    {
     "name": "stdout",
     "output_type": "stream",
     "text": [
      "| NAME   | OBS-1 start-end | OBS-2 start-end | Red start-end |\n",
      "| YES-1  | 26-47           | N/A             | 16-21, 49-54  |\n",
      "| NOT-1  | 44-66           | N/A             | 40-43, 74-77  |\n",
      "| AND-1  | 30-45           | 49-64           | 16-23, 70-77  |\n",
      "| OR-1   | 27-46           | 47-66           | 16-26, 67-77  |\n"
     ]
    }
   ],
   "source": [
    "t = [[\"YES-1\", \"26-47\", \"N/A\", \"16-21, 49-54\"],\n",
    "     [\"NOT-1\", \"44-66\", \"N/A\", \"40-43, 74-77\"],\n",
    "     [\"AND-1\", \"30-45\", \"49-64\", \"16-23, 70-77\"],\n",
    "     [\"OR-1\", \"27-46\", \"47-66\",\"16-26, 67-77\"]]\n",
    "\n",
    "print (\"| NAME   | OBS-1 start-end | OBS-2 start-end | Red start-end |\")\n",
    "\n",
    "for item in t:\n",
    "    print (\"|\", item[0], \" \"*(5-len(item[0])), \"|\", \n",
    "           item[1], \" \"*(14-len(item[1])), \"|\", \n",
    "           item[2], \" \"*(14-len(item[2])), \"|\", item[3], \" \"*(8-len(item[3])), \"|\")"
   ]
  },
  {
   "cell_type": "code",
   "execution_count": 2,
   "metadata": {},
   "outputs": [
    {
     "name": "stdout",
     "output_type": "stream",
     "text": [
      "*** This is what you'd see on your terminal ***\n",
      "\n",
      "MUSCLE v3.8.31 by Robert C. Edgar\n",
      "\n",
      "http://www.drive5.com/muscle\n",
      "This software is donated to the public domain.\n",
      "Please cite: Edgar, R.C. Nucleic Acids Res 32(5), 1792-97.\n",
      "\n",
      "- 2 seqs, max length 8, avg  length 7\n",
      "00:00:00     10 MB(1%)  Iter   1   33.33%  K-mer dist pass 1\r",
      "00:00:00     10 MB(1%)  Iter   1  100.00%  K-mer dist pass 1\r\n",
      "00:00:00     10 MB(1%)  Iter   1   33.33%  K-mer dist pass 2\r",
      "00:00:00     10 MB(1%)  Iter   1  100.00%  K-mer dist pass 2\r\n",
      "00:00:00     10 MB(1%)  Iter   1  100.00%  Align node       \r",
      "00:00:00     11 MB(1%)  Iter   1  100.00%  Align node\r\n",
      "00:00:00     11 MB(1%)  Iter   1   50.00%  Root alignment\r",
      "00:00:00     11 MB(1%)  Iter   1  100.00%  Root alignment\r",
      "00:00:00     11 MB(1%)  Iter   1  100.00%  Root alignment\r\n",
      "\n",
      "*** And this would have been in your output file ***\n",
      ">seq1\n",
      "ACGTCTAG\n",
      ">seq2\n",
      "AC-TCTAG\n",
      "\n"
     ]
    }
   ],
   "source": [
    "import subprocess\n",
    "\n",
    "seqs = \\\n",
    "\"\"\">seq1\n",
    "acgtctag\n",
    ">seq2\n",
    "actctag\n",
    "\"\"\"\n",
    "\n",
    "p = subprocess.run(['muscle','-diags'],\n",
    "                   input=bytes(seqs,'ascii'),\n",
    "                   stdout=subprocess.PIPE,\n",
    "                   stderr=subprocess.PIPE)\n",
    "\n",
    "print(\"*** This is what you'd see on your terminal ***\")\n",
    "print(p.stderr.decode())\n",
    "\n",
    "print(\"*** And this would have been in your output file ***\")\n",
    "print(p.stdout.decode())"
   ]
  },
  {
   "cell_type": "markdown",
   "metadata": {},
   "source": [
    "## Test in terminal"
   ]
  },
  {
   "cell_type": "markdown",
   "metadata": {},
   "source": [
    "be131-36@flamenco ~ [5:33pm]> RNAfold\n",
    "\n",
    "Input string (upper or lower case); @ to quit\n",
    "....,....1....,....2....,....3....,....4....,....5....,....6....,....7....,....8\n",
    "GGGCGACCCUGAUGAGCUUGAGUUUAGCUCGUCACUGUCCAGGUUCAAUCAGGCGAAACGGUGAAAGCCGUAGGUUGCCC\n",
    "length = 80\n",
    "\n",
    "GGGCGACCCUGAUGAGCUUGAGUUUAGCUCGUCACUGUCCAGGUUCAAUCAGGCGAAACGGUGAAAGCCGUAGGUUGCCC\n",
    "((((((((.(((((((((.......))))))))).((.((.(((...))).))))..(((((....))))).))))))))\n",
    " minimum free energy = -33.00 kcal/mol\n",
    "\n",
    "Input string (upper or lower case); @ to quit\n",
    "....,....1....,....2....,....3....,....4....,....5....,....6....,....7....,....8\n",
    "GGCAGGUACAUACAGCUGAUGAGUCCCAAAUAGGACGAAACGCGACACACACCACUAAACCGUGCAGUGUUUUGCGUCCUGUAUUCCACUGC\n",
    "length = 92\n",
    "\n",
    "GGCAGGUACAUACAGCUGAUGAGUCCCAAAUAGGACGAAACGCGACACACACCACUAAACCGUGCAGUGUUUUGCGUCCUGUAUUCCACUGC\n",
    ".((((....((((((.......((((......))))...((((((.((((..(((......)))..)))).)))))).))))))....))))\n",
    " minimum free energy = -28.10 kcal/mol\n",
    "\n",
    "Input string (upper or lower case); @ to quit\n",
    "....,....1....,....2....,....3....,....4....,....5....,....6....,....7....,....8\n",
    "GGGCGACCCUGAUGAGCUUGGUUUAGUAUUUACAGCUCCAUACAUGAGGUGUUAUCCCUAUGCAUGUUCGAUCAGGCGAAACGGUGAAAGCCGUAGGUUGCCCAGAGACAAU\n",
    "length = 112\n",
    "\n",
    "GGGCGACCCUGAUGAGCUUGGUUUAGUAUUUACAGCUCCAUACAUGAGGUGUUAUCCCUAUGCAUGUUCGAUCAGGCGAAACGGUGAAAGCCGUAGGUUGCCCAGAGACAAU\n",
    "(((((((((((((((((...((.(((.....(((.(((.......))).))).....))).))..)))).))))).....(((((....))))).)))))))).........\n",
    " minimum free energy = -38.40 kcal/mol\n",
    "\n",
    "Input string (upper or lower case); @ to quit\n",
    "....,....1....,....2....,....3....,....4....,....5....,....6....,....7....,....8\n",
    "GGGCGACCCUGAUGAGCUUGGUUGAGUAUUUACAGCACCAUACAUGAGGUGUUCUCCCUACGCAAGUUCGAUCAGCGGAAACGGUGAAAGCCGUAGGUUGCCC\n",
    "length = 103\n",
    "\n",
    "GGGCGACCCUGAUGAGCUUGGUUGAGUAUUUACAGCACCAUACAUGAGGUGUUCUCCCUACGCAAGUUCGAUCAGCGGAAACGGUGAAAGCCGUAGGUUGCCC\n",
    "((((((((((((((((((((((.(((.......((((((........)))))))))...)).))))))).))))).....(((((....))))).))))))))\n",
    " minimum free energy = -40.90 kcal/mol\n",
    "    \n",
    "Input string (upper or lower case); @ to quit\n",
    "....,....1....,....2....,....3....,....4....,....5....,....6....,....7....,....8\n",
    "@\n",
    "\n"
   ]
  },
  {
   "cell_type": "markdown",
   "metadata": {},
   "source": [
    "be131-36@flamenco ~/lab5 [11:07am]> RNAfold -C Yes-1 \n",
    "GGGCGACCCUGAUGAGCUUGAGUUUAGCUCGUCACUGUCCAGGUUCAAUCAGGCGAAACGGUGAAAGCCGUAGGUUGCCC\n",
    "((((((((.......((((((...........................))))))...(((((....))))).)))))))) (-24.50)\n",
    "\n",
    "be131-36@flamenco ~/lab5 [11:20am]> RNAfold -C Not-1 \n",
    "GGCAGGUACAUACAGCUGAUGAGUCCCAAAUAGGACGAAACGCGACACACACCACUAAACCGUGCAGUGUUUUGCGUCCUGUAUUCCACUGC\n",
    ".((((....((((((..((((.((((......))))(((((((.......................))))))).))))))))))....)))) (-20.80)\n",
    "\n",
    "be131-36@flamenco ~/lab5 [11:22am]> RNAfold -C And_both \n",
    "GGGCGACCCUGAUGAGCUUGGUUUAGUAUUUACAGCUCCAUACAUGAGGUGUUAUCCCUAUGCAAGUUCGAUCAGGCGAAACGGUGAAAGCCGUAGGUUGCCCAGAGACAAU\n",
    "((((((((((((((((((..............................................))))).))))).....(((((....))))).))))))))......... (-27.64)\n",
    "\n",
    "be131-36@flamenco ~/lab5 [11:22am]> RNAfold -C And_OBS1\n",
    "GGGCGACCCUGAUGAGCUUGGUUUAGUAUUUACAGCUCCAUACAUGAGGUGUUAUCCCUAUGCAAGUUCGAUCAGGCGAAACGGUGAAAGCCGUAGGUUGCCCAGAGACAAU\n",
    "((((((((((((((((((((..........................(((.(....))))...))))))).))))).....(((((....))))).))))))))......... (-33.90)\n",
    "\n",
    "be131-36@flamenco ~/lab5 [11:22am]> RNAfold -C And_OBS2\n",
    "GGGCGACCCUGAUGAGCUUGGUUUAGUAUUUACAGCUCCAUACAUGAGGUGUUAUCCCUAUGCAAGUUCGAUCAGGCGAAACGGUGAAAGCCGUAGGUUGCCCAGAGACAAU\n",
    "(((((((((((((((((((((...(((.......))))))........................))))).))))).....(((((....))))).))))))))......... (-29.60)\n",
    "\n",
    "be131-36@flamenco ~/lab5 [11:23am]> RNAfold -C Or_both\n",
    "GGGCGACCCUGAUGAGCUUGGUUGAGUAUUUACAGCACCAUACAUGAGGUGUUCUCCCUACGCAAGUUCGAUCAGCGGAAACGGUGAAAGCCGUAGGUUGCCC\n",
    "((((((((((((((((((((((.(((...........................)))...)).))))))).))))).....(((((....))))).)))))))) (-33.40)\n",
    "\n",
    "be131-36@flamenco ~/lab5 [11:23am]> RNAfold -C Or_OBS1\n",
    "GGGCGACCCUGAUGAGCUUGGUUGAGUAUUUACAGCACCAUACAUGAGGUGUUCUCCCUACGCAAGUUCGAUCAGCGGAAACGGUGAAAGCCGUAGGUUGCCC\n",
    "((((((((...(((.((((.((((........))))...................................(((.((....)).)))))))))).)))))))) (-25.60)\n",
    "\n",
    "be131-36@flamenco ~/lab5 [11:23am]> RNAfold -C Or_OBS2\n",
    "GGGCGACCCUGAUGAGCUUGGUUGAGUAUUUACAGCACCAUACAUGAGGUGUUCUCCCUACGCAAGUUCGAUCAGCGGAAACGGUGAAAGCCGUAGGUUGCCC\n",
    "((((((((.......(((.(((((((........................................))))))))))....(((((....))))).)))))))) (-24.69)\n"
   ]
  },
  {
   "cell_type": "code",
   "execution_count": null,
   "metadata": {},
   "outputs": [],
   "source": []
  }
 ],
 "metadata": {
  "kernelspec": {
   "display_name": "Python 3",
   "language": "python",
   "name": "python3"
  },
  "language_info": {
   "codemirror_mode": {
    "name": "ipython",
    "version": 3
   },
   "file_extension": ".py",
   "mimetype": "text/x-python",
   "name": "python",
   "nbconvert_exporter": "python",
   "pygments_lexer": "ipython3",
   "version": "3.6.5"
  }
 },
 "nbformat": 4,
 "nbformat_minor": 2
}
